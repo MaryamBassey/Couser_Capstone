{
 "cells": [
  {
   "cell_type": "markdown",
   "metadata": {},
   "source": [
    "# Data Requirements"
   ]
  },
  {
   "cell_type": "markdown",
   "metadata": {},
   "source": [
    "- Toronto crime incidents data including incident type and location data\n",
    "- Data on average housing prices with regards to neighborhoods in Toronto\n",
    "- Location data for Schools, Arts and Entertainment centers in Toronto neighborhoods\n",
    "- Toronto neighborhood latitude and longitude data\n",
    "- Toronto neighborhood geojson data"
   ]
  },
  {
   "cell_type": "markdown",
   "metadata": {},
   "source": [
    "# Data Sources"
   ]
  },
  {
   "cell_type": "markdown",
   "metadata": {},
   "source": [
    "- Housing prices  \n",
    "Sourced from- https://www.zolo.ca/toronto-real-estate/neighbourhoods, 29/04/19 6.17pm  \n",
    "The data willbe scraped from the website and it contains the average selling price of houses for neighborhoods in Toronto for 28days prior to the day it will be scraped.  \n",
    "\n",
    "- Toronto crime data\n",
    "Sourced from- http://data.torontopolice.on.ca/datasets/98f7dde610b54b9081dfca80be453ac9_0,  28/04/19  \n",
    "The downloaded dataset contains information on crimes committed in Toronto and their location data from 2014 to 2018. The 2018 incidents data is of interest for this project.  \n",
    "\n",
    "- Data for schools and entertainment centers in Toronto was sourced from the Four Square Location data.  \n",
    "The data will contain the number of venues in each neighborhood under Arts and Entertainment Category and Schools Category.\n",
    "\n",
    "- Neighborhood  CDN- https://en.wikipedia.org/wiki/List_of_city-designated_neighbourhoods_in_Toronto  \n",
    "Contains a list the Identification Number for Toronto Neighborhoods and the Neighborhood names.\n",
    "\n",
    "- Toronto neighborhood Geojson data  \n",
    "https://github.com/jasonicarter/toronto-geojson/blob/master/toronto_topo.json  \n",
    "https://portal0.cf.opendata.inter.sandbox-toronto.ca/dataset/neighbourhoods/  \n",
    "It will be used for plotting Choropleth maps\n"
   ]
  },
  {
   "cell_type": "code",
   "execution_count": null,
   "metadata": {},
   "outputs": [],
   "source": []
  }
 ],
 "metadata": {
  "kernelspec": {
   "display_name": "Python 3",
   "language": "python",
   "name": "python3"
  },
  "language_info": {
   "codemirror_mode": {
    "name": "ipython",
    "version": 3
   },
   "file_extension": ".py",
   "mimetype": "text/x-python",
   "name": "python",
   "nbconvert_exporter": "python",
   "pygments_lexer": "ipython3",
   "version": "3.6.8"
  }
 },
 "nbformat": 4,
 "nbformat_minor": 2
}
