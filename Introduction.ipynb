{
 "cells": [
  {
   "cell_type": "markdown",
   "metadata": {},
   "source": [
    "# INTRODUCTION/ BUSINESS PROBLEM"
   ]
  },
  {
   "cell_type": "markdown",
   "metadata": {},
   "source": [
    "Canada opened its borders to skilled workers from all over the world. Emigrating skilled workers ofthe come along with their families.  \n",
    "\n",
    "Locating the right neighborhood to reside in is an issue for people new to a city. There are several factors to consider, the more common being: cost of housing, crime rate, proximity to schools for children and places of entertainment. There are also issues like proximity to work and potential employement opportunities which will not be considered in this work.  \n",
    "\n",
    "This project aims to use data to help guide Toronto immigrants in choosing neighborhoods to reside with regards to **safety**, **housing prices**, **availability of schools and entertainment activities**. Neighborhoods that share similar attributes with regards to the above listed parameters will be classed together in order to simplify the process of choosing a place to reside within the greater Toronto metropolis."
   ]
  }
 ],
 "metadata": {
  "kernelspec": {
   "display_name": "Python 3",
   "language": "python",
   "name": "python3"
  },
  "language_info": {
   "codemirror_mode": {
    "name": "ipython",
    "version": 3
   },
   "file_extension": ".py",
   "mimetype": "text/x-python",
   "name": "python",
   "nbconvert_exporter": "python",
   "pygments_lexer": "ipython3",
   "version": "3.6.8"
  }
 },
 "nbformat": 4,
 "nbformat_minor": 2
}
